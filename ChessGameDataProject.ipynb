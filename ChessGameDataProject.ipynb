{
 "cells": [
  {
   "cell_type": "code",
   "execution_count": 1,
   "metadata": {},
   "outputs": [],
   "source": [
    "import pandas as pd"
   ]
  },
  {
   "cell_type": "code",
   "execution_count": 2,
   "metadata": {},
   "outputs": [
    {
     "data": {
      "text/html": [
       "<div>\n",
       "<style scoped>\n",
       "    .dataframe tbody tr th:only-of-type {\n",
       "        vertical-align: middle;\n",
       "    }\n",
       "\n",
       "    .dataframe tbody tr th {\n",
       "        vertical-align: top;\n",
       "    }\n",
       "\n",
       "    .dataframe thead th {\n",
       "        text-align: right;\n",
       "    }\n",
       "</style>\n",
       "<table border=\"1\" class=\"dataframe\">\n",
       "  <thead>\n",
       "    <tr style=\"text-align: right;\">\n",
       "      <th></th>\n",
       "      <th>game_id</th>\n",
       "      <th>rated</th>\n",
       "      <th>turns</th>\n",
       "      <th>victory_status</th>\n",
       "      <th>winner</th>\n",
       "      <th>time_increment</th>\n",
       "      <th>white_id</th>\n",
       "      <th>white_rating</th>\n",
       "      <th>black_id</th>\n",
       "      <th>black_rating</th>\n",
       "      <th>moves</th>\n",
       "      <th>opening_code</th>\n",
       "      <th>opening_moves</th>\n",
       "      <th>opening_fullname</th>\n",
       "      <th>opening_shortname</th>\n",
       "      <th>opening_response</th>\n",
       "      <th>opening_variation</th>\n",
       "    </tr>\n",
       "  </thead>\n",
       "  <tbody>\n",
       "    <tr>\n",
       "      <th>0</th>\n",
       "      <td>1</td>\n",
       "      <td>False</td>\n",
       "      <td>13</td>\n",
       "      <td>Out of Time</td>\n",
       "      <td>White</td>\n",
       "      <td>15+2</td>\n",
       "      <td>bourgris</td>\n",
       "      <td>1500</td>\n",
       "      <td>a-00</td>\n",
       "      <td>1191</td>\n",
       "      <td>d4 d5 c4 c6 cxd5 e6 dxe6 fxe6 Nf3 Bb4+ Nc3 Ba5...</td>\n",
       "      <td>D10</td>\n",
       "      <td>5</td>\n",
       "      <td>Slav Defense: Exchange Variation</td>\n",
       "      <td>Slav Defense</td>\n",
       "      <td>NaN</td>\n",
       "      <td>Exchange Variation</td>\n",
       "    </tr>\n",
       "    <tr>\n",
       "      <th>1</th>\n",
       "      <td>2</td>\n",
       "      <td>True</td>\n",
       "      <td>16</td>\n",
       "      <td>Resign</td>\n",
       "      <td>Black</td>\n",
       "      <td>5+10</td>\n",
       "      <td>a-00</td>\n",
       "      <td>1322</td>\n",
       "      <td>skinnerua</td>\n",
       "      <td>1261</td>\n",
       "      <td>d4 Nc6 e4 e5 f4 f6 dxe5 fxe5 fxe5 Nxe5 Qd4 Nc6...</td>\n",
       "      <td>B00</td>\n",
       "      <td>4</td>\n",
       "      <td>Nimzowitsch Defense: Kennedy Variation</td>\n",
       "      <td>Nimzowitsch Defense</td>\n",
       "      <td>NaN</td>\n",
       "      <td>Kennedy Variation</td>\n",
       "    </tr>\n",
       "    <tr>\n",
       "      <th>2</th>\n",
       "      <td>3</td>\n",
       "      <td>True</td>\n",
       "      <td>61</td>\n",
       "      <td>Mate</td>\n",
       "      <td>White</td>\n",
       "      <td>5+10</td>\n",
       "      <td>ischia</td>\n",
       "      <td>1496</td>\n",
       "      <td>a-00</td>\n",
       "      <td>1500</td>\n",
       "      <td>e4 e5 d3 d6 Be3 c6 Be2 b5 Nd2 a5 a4 c5 axb5 Nc...</td>\n",
       "      <td>C20</td>\n",
       "      <td>3</td>\n",
       "      <td>King's Pawn Game: Leonardis Variation</td>\n",
       "      <td>King's Pawn Game</td>\n",
       "      <td>NaN</td>\n",
       "      <td>Leonardis Variation</td>\n",
       "    </tr>\n",
       "    <tr>\n",
       "      <th>3</th>\n",
       "      <td>4</td>\n",
       "      <td>True</td>\n",
       "      <td>61</td>\n",
       "      <td>Mate</td>\n",
       "      <td>White</td>\n",
       "      <td>20+0</td>\n",
       "      <td>daniamurashov</td>\n",
       "      <td>1439</td>\n",
       "      <td>adivanov2009</td>\n",
       "      <td>1454</td>\n",
       "      <td>d4 d5 Nf3 Bf5 Nc3 Nf6 Bf4 Ng4 e3 Nc6 Be2 Qd7 O...</td>\n",
       "      <td>D02</td>\n",
       "      <td>3</td>\n",
       "      <td>Queen's Pawn Game: Zukertort Variation</td>\n",
       "      <td>Queen's Pawn Game</td>\n",
       "      <td>NaN</td>\n",
       "      <td>Zukertort Variation</td>\n",
       "    </tr>\n",
       "    <tr>\n",
       "      <th>4</th>\n",
       "      <td>5</td>\n",
       "      <td>True</td>\n",
       "      <td>95</td>\n",
       "      <td>Mate</td>\n",
       "      <td>White</td>\n",
       "      <td>30+3</td>\n",
       "      <td>nik221107</td>\n",
       "      <td>1523</td>\n",
       "      <td>adivanov2009</td>\n",
       "      <td>1469</td>\n",
       "      <td>e4 e5 Nf3 d6 d4 Nc6 d5 Nb4 a3 Na6 Nc3 Be7 b4 N...</td>\n",
       "      <td>C41</td>\n",
       "      <td>5</td>\n",
       "      <td>Philidor Defense</td>\n",
       "      <td>Philidor Defense</td>\n",
       "      <td>NaN</td>\n",
       "      <td>NaN</td>\n",
       "    </tr>\n",
       "    <tr>\n",
       "      <th>...</th>\n",
       "      <td>...</td>\n",
       "      <td>...</td>\n",
       "      <td>...</td>\n",
       "      <td>...</td>\n",
       "      <td>...</td>\n",
       "      <td>...</td>\n",
       "      <td>...</td>\n",
       "      <td>...</td>\n",
       "      <td>...</td>\n",
       "      <td>...</td>\n",
       "      <td>...</td>\n",
       "      <td>...</td>\n",
       "      <td>...</td>\n",
       "      <td>...</td>\n",
       "      <td>...</td>\n",
       "      <td>...</td>\n",
       "      <td>...</td>\n",
       "    </tr>\n",
       "    <tr>\n",
       "      <th>20053</th>\n",
       "      <td>20054</td>\n",
       "      <td>True</td>\n",
       "      <td>24</td>\n",
       "      <td>Resign</td>\n",
       "      <td>White</td>\n",
       "      <td>10+10</td>\n",
       "      <td>belcolt</td>\n",
       "      <td>1691</td>\n",
       "      <td>jamboger</td>\n",
       "      <td>1220</td>\n",
       "      <td>d4 f5 e3 e6 Nf3 Nf6 Nc3 b6 Be2 Bb7 O-O Be7 Ne5...</td>\n",
       "      <td>A80</td>\n",
       "      <td>2</td>\n",
       "      <td>Dutch Defense</td>\n",
       "      <td>Dutch Defense</td>\n",
       "      <td>NaN</td>\n",
       "      <td>NaN</td>\n",
       "    </tr>\n",
       "    <tr>\n",
       "      <th>20054</th>\n",
       "      <td>20055</td>\n",
       "      <td>True</td>\n",
       "      <td>82</td>\n",
       "      <td>Mate</td>\n",
       "      <td>Black</td>\n",
       "      <td>10+0</td>\n",
       "      <td>jamboger</td>\n",
       "      <td>1233</td>\n",
       "      <td>farrukhasomiddinov</td>\n",
       "      <td>1196</td>\n",
       "      <td>d4 d6 Bf4 e5 Bg3 Nf6 e3 exd4 exd4 d5 c3 Bd6 Bd...</td>\n",
       "      <td>A41</td>\n",
       "      <td>2</td>\n",
       "      <td>Queen's Pawn</td>\n",
       "      <td>Queen's Pawn</td>\n",
       "      <td>NaN</td>\n",
       "      <td>NaN</td>\n",
       "    </tr>\n",
       "    <tr>\n",
       "      <th>20055</th>\n",
       "      <td>20056</td>\n",
       "      <td>True</td>\n",
       "      <td>35</td>\n",
       "      <td>Mate</td>\n",
       "      <td>White</td>\n",
       "      <td>10+0</td>\n",
       "      <td>jamboger</td>\n",
       "      <td>1219</td>\n",
       "      <td>schaaksmurf3</td>\n",
       "      <td>1286</td>\n",
       "      <td>d4 d5 Bf4 Nc6 e3 Nf6 c3 e6 Nf3 Be7 Bd3 O-O Nbd...</td>\n",
       "      <td>D00</td>\n",
       "      <td>3</td>\n",
       "      <td>Queen's Pawn Game: Mason Attack</td>\n",
       "      <td>Queen's Pawn Game</td>\n",
       "      <td>NaN</td>\n",
       "      <td>Mason Attack</td>\n",
       "    </tr>\n",
       "    <tr>\n",
       "      <th>20056</th>\n",
       "      <td>20057</td>\n",
       "      <td>True</td>\n",
       "      <td>109</td>\n",
       "      <td>Resign</td>\n",
       "      <td>White</td>\n",
       "      <td>10+0</td>\n",
       "      <td>marcodisogno</td>\n",
       "      <td>1360</td>\n",
       "      <td>jamboger</td>\n",
       "      <td>1227</td>\n",
       "      <td>e4 d6 d4 Nf6 e5 dxe5 dxe5 Qxd1+ Kxd1 Nd5 c4 Nb...</td>\n",
       "      <td>B07</td>\n",
       "      <td>4</td>\n",
       "      <td>Pirc Defense</td>\n",
       "      <td>Pirc Defense</td>\n",
       "      <td>NaN</td>\n",
       "      <td>NaN</td>\n",
       "    </tr>\n",
       "    <tr>\n",
       "      <th>20057</th>\n",
       "      <td>20058</td>\n",
       "      <td>True</td>\n",
       "      <td>78</td>\n",
       "      <td>Mate</td>\n",
       "      <td>Black</td>\n",
       "      <td>10+0</td>\n",
       "      <td>jamboger</td>\n",
       "      <td>1235</td>\n",
       "      <td>ffbob</td>\n",
       "      <td>1339</td>\n",
       "      <td>d4 d5 Bf4 Na6 e3 e6 c3 Nf6 Nf3 Bd7 Nbd2 b5 Bd3...</td>\n",
       "      <td>D00</td>\n",
       "      <td>3</td>\n",
       "      <td>Queen's Pawn Game: Mason Attack</td>\n",
       "      <td>Queen's Pawn Game</td>\n",
       "      <td>NaN</td>\n",
       "      <td>Mason Attack</td>\n",
       "    </tr>\n",
       "  </tbody>\n",
       "</table>\n",
       "<p>20058 rows × 17 columns</p>\n",
       "</div>"
      ],
      "text/plain": [
       "       game_id  rated  turns victory_status winner time_increment  \\\n",
       "0            1  False     13    Out of Time  White           15+2   \n",
       "1            2   True     16         Resign  Black           5+10   \n",
       "2            3   True     61           Mate  White           5+10   \n",
       "3            4   True     61           Mate  White           20+0   \n",
       "4            5   True     95           Mate  White           30+3   \n",
       "...        ...    ...    ...            ...    ...            ...   \n",
       "20053    20054   True     24         Resign  White          10+10   \n",
       "20054    20055   True     82           Mate  Black           10+0   \n",
       "20055    20056   True     35           Mate  White           10+0   \n",
       "20056    20057   True    109         Resign  White           10+0   \n",
       "20057    20058   True     78           Mate  Black           10+0   \n",
       "\n",
       "            white_id  white_rating            black_id  black_rating  \\\n",
       "0           bourgris          1500                a-00          1191   \n",
       "1               a-00          1322           skinnerua          1261   \n",
       "2             ischia          1496                a-00          1500   \n",
       "3      daniamurashov          1439        adivanov2009          1454   \n",
       "4          nik221107          1523        adivanov2009          1469   \n",
       "...              ...           ...                 ...           ...   \n",
       "20053        belcolt          1691            jamboger          1220   \n",
       "20054       jamboger          1233  farrukhasomiddinov          1196   \n",
       "20055       jamboger          1219        schaaksmurf3          1286   \n",
       "20056   marcodisogno          1360            jamboger          1227   \n",
       "20057       jamboger          1235               ffbob          1339   \n",
       "\n",
       "                                                   moves opening_code  \\\n",
       "0      d4 d5 c4 c6 cxd5 e6 dxe6 fxe6 Nf3 Bb4+ Nc3 Ba5...          D10   \n",
       "1      d4 Nc6 e4 e5 f4 f6 dxe5 fxe5 fxe5 Nxe5 Qd4 Nc6...          B00   \n",
       "2      e4 e5 d3 d6 Be3 c6 Be2 b5 Nd2 a5 a4 c5 axb5 Nc...          C20   \n",
       "3      d4 d5 Nf3 Bf5 Nc3 Nf6 Bf4 Ng4 e3 Nc6 Be2 Qd7 O...          D02   \n",
       "4      e4 e5 Nf3 d6 d4 Nc6 d5 Nb4 a3 Na6 Nc3 Be7 b4 N...          C41   \n",
       "...                                                  ...          ...   \n",
       "20053  d4 f5 e3 e6 Nf3 Nf6 Nc3 b6 Be2 Bb7 O-O Be7 Ne5...          A80   \n",
       "20054  d4 d6 Bf4 e5 Bg3 Nf6 e3 exd4 exd4 d5 c3 Bd6 Bd...          A41   \n",
       "20055  d4 d5 Bf4 Nc6 e3 Nf6 c3 e6 Nf3 Be7 Bd3 O-O Nbd...          D00   \n",
       "20056  e4 d6 d4 Nf6 e5 dxe5 dxe5 Qxd1+ Kxd1 Nd5 c4 Nb...          B07   \n",
       "20057  d4 d5 Bf4 Na6 e3 e6 c3 Nf6 Nf3 Bd7 Nbd2 b5 Bd3...          D00   \n",
       "\n",
       "       opening_moves                        opening_fullname  \\\n",
       "0                  5        Slav Defense: Exchange Variation   \n",
       "1                  4  Nimzowitsch Defense: Kennedy Variation   \n",
       "2                  3   King's Pawn Game: Leonardis Variation   \n",
       "3                  3  Queen's Pawn Game: Zukertort Variation   \n",
       "4                  5                        Philidor Defense   \n",
       "...              ...                                     ...   \n",
       "20053              2                           Dutch Defense   \n",
       "20054              2                            Queen's Pawn   \n",
       "20055              3         Queen's Pawn Game: Mason Attack   \n",
       "20056              4                            Pirc Defense   \n",
       "20057              3         Queen's Pawn Game: Mason Attack   \n",
       "\n",
       "         opening_shortname opening_response    opening_variation  \n",
       "0             Slav Defense              NaN   Exchange Variation  \n",
       "1      Nimzowitsch Defense              NaN    Kennedy Variation  \n",
       "2         King's Pawn Game              NaN  Leonardis Variation  \n",
       "3        Queen's Pawn Game              NaN  Zukertort Variation  \n",
       "4         Philidor Defense              NaN                  NaN  \n",
       "...                    ...              ...                  ...  \n",
       "20053        Dutch Defense              NaN                  NaN  \n",
       "20054         Queen's Pawn              NaN                  NaN  \n",
       "20055    Queen's Pawn Game              NaN         Mason Attack  \n",
       "20056         Pirc Defense              NaN                  NaN  \n",
       "20057    Queen's Pawn Game              NaN         Mason Attack  \n",
       "\n",
       "[20058 rows x 17 columns]"
      ]
     },
     "execution_count": 2,
     "metadata": {},
     "output_type": "execute_result"
    }
   ],
   "source": [
    "df = pd.read_csv(r\"C:\\Projects\\Online+Chess+Games\\chess_games.csv\")\n",
    "df"
   ]
  },
  {
   "cell_type": "markdown",
   "metadata": {},
   "source": [
    "<center> Question 1 </center>\n",
    "We want to determine the percentage of games won by white, black and games that ended in a draw"
   ]
  },
  {
   "cell_type": "code",
   "execution_count": 3,
   "metadata": {},
   "outputs": [
    {
     "name": "stdout",
     "output_type": "stream",
     "text": [
      "<class 'pandas.core.frame.DataFrame'>\n",
      "RangeIndex: 20058 entries, 0 to 20057\n",
      "Data columns (total 17 columns):\n",
      " #   Column             Non-Null Count  Dtype \n",
      "---  ------             --------------  ----- \n",
      " 0   game_id            20058 non-null  int64 \n",
      " 1   rated              20058 non-null  bool  \n",
      " 2   turns              20058 non-null  int64 \n",
      " 3   victory_status     20058 non-null  object\n",
      " 4   winner             20058 non-null  object\n",
      " 5   time_increment     20058 non-null  object\n",
      " 6   white_id           20058 non-null  object\n",
      " 7   white_rating       20058 non-null  int64 \n",
      " 8   black_id           20058 non-null  object\n",
      " 9   black_rating       20058 non-null  int64 \n",
      " 10  moves              20058 non-null  object\n",
      " 11  opening_code       20058 non-null  object\n",
      " 12  opening_moves      20058 non-null  int64 \n",
      " 13  opening_fullname   20058 non-null  object\n",
      " 14  opening_shortname  20058 non-null  object\n",
      " 15  opening_response   1207 non-null   object\n",
      " 16  opening_variation  14398 non-null  object\n",
      "dtypes: bool(1), int64(5), object(11)\n",
      "memory usage: 2.5+ MB\n"
     ]
    }
   ],
   "source": [
    "#Use the info method to determine the amount of entries in the dataframe, this shows the total number of games recorded\n",
    "df.info()"
   ]
  },
  {
   "cell_type": "code",
   "execution_count": 4,
   "metadata": {},
   "outputs": [
    {
     "data": {
      "text/plain": [
       "winner\n",
       "White    49.86\n",
       "Black    45.40\n",
       "Draw      4.74\n",
       "Name: proportion, dtype: float64"
      ]
     },
     "execution_count": 4,
     "metadata": {},
     "output_type": "execute_result"
    }
   ],
   "source": [
    "#Percentage of Games Won by both chess colours and by Draw\n",
    "round(df.winner.value_counts(normalize=True)*100, 2)"
   ]
  },
  {
   "cell_type": "markdown",
   "metadata": {},
   "source": [
    "<p> The percentage of games won by White is approximately 49.86%, the percentage of games won by Black is approximately \n",
    "45.4% & the percentage of games that ended in a draw was approximately 4.74%. </p>"
   ]
  },
  {
   "cell_type": "markdown",
   "metadata": {},
   "source": [
    "<center> Question 2 </center>\n",
    "We want to determine the most frequently used opening move in games where black and white won, as well as when the game ended in a draw"
   ]
  },
  {
   "cell_type": "code",
   "execution_count": 5,
   "metadata": {},
   "outputs": [
    {
     "data": {
      "text/plain": [
       "winner  opening_fullname                            \n",
       "Black   Van't Kruijs Opening                            226\n",
       "        Sicilian Defense                                194\n",
       "        Sicilian Defense: Bowdler Attack                164\n",
       "        Scandinavian Defense                            123\n",
       "        French Defense: Knight Variation                121\n",
       "                                                       ... \n",
       "        Portuguese Opening: Portuguese Gambit             1\n",
       "        Ponziani Opening: Romanishin Variation            1\n",
       "        Polish Opening: Tartakower Gambit                 1\n",
       "        Polish Opening: Schiffler-Sokolsky Variation      1\n",
       "        Zukertort Opening: Wade Defense                   1\n",
       "Name: count, Length: 1145, dtype: int64"
      ]
     },
     "execution_count": 5,
     "metadata": {},
     "output_type": "execute_result"
    }
   ],
   "source": [
    "#Frequently used opening moves where Black won\n",
    "q2 = df[['winner','opening_fullname']]\n",
    "q2_black = q2[q2['winner'] == 'Black']\n",
    "q2_black.value_counts()\n"
   ]
  },
  {
   "cell_type": "code",
   "execution_count": 6,
   "metadata": {},
   "outputs": [
    {
     "data": {
      "text/plain": [
       "winner  opening_fullname                                                  \n",
       "White   Scandinavian Defense: Mieses-Kotroc Variation                         164\n",
       "        Sicilian Defense                                                      149\n",
       "        Scotch Game                                                           145\n",
       "        French Defense: Knight Variation                                      135\n",
       "        Philidor Defense #3                                                   127\n",
       "                                                                             ... \n",
       "        Scandinavian Defense: Kiel Variation                                    1\n",
       "        Scandinavian Defense: Classical Variation                               1\n",
       "        Pirc Defense: Classical Variation |  Quiet System                       1\n",
       "        Pirc Defense: Classical Variation |  Quiet System |  Chigorin Line      1\n",
       "        Zukertort Opening: Vos Gambit                                           1\n",
       "Name: count, Length: 1181, dtype: int64"
      ]
     },
     "execution_count": 6,
     "metadata": {},
     "output_type": "execute_result"
    }
   ],
   "source": [
    "#Frequently used opening moves where White won\n",
    "q2 = df[['winner','opening_fullname']]\n",
    "q2_white = q2[q2['winner'] == 'White']\n",
    "q2_white.value_counts()"
   ]
  },
  {
   "cell_type": "code",
   "execution_count": 7,
   "metadata": {},
   "outputs": [
    {
     "data": {
      "text/plain": [
       "winner  opening_fullname                                               \n",
       "Draw    Van't Kruijs Opening                                               16\n",
       "        French Defense: Knight Variation                                   15\n",
       "        Sicilian Defense                                                   15\n",
       "        Queen's Pawn Game: Mason Attack                                    13\n",
       "        Sicilian Defense: Bowdler Attack                                   13\n",
       "                                                                           ..\n",
       "        Gruenfeld Defense: Three Knights Variation |  Burille Variation     1\n",
       "        Queen's Pawn Game: Colle System                                     1\n",
       "        Queen's Pawn Game: Franco-Sicilian Defense                          1\n",
       "        Queen's Pawn Game: Krause Variation                                 1\n",
       "        Zukertort Opening: Vos Gambit                                       1\n",
       "Name: count, Length: 413, dtype: int64"
      ]
     },
     "execution_count": 7,
     "metadata": {},
     "output_type": "execute_result"
    }
   ],
   "source": [
    "#Frequently used opening moves where the game ended in a Draw\n",
    "q2 = df[['winner','opening_fullname']]\n",
    "q2_draw = q2[q2['winner'] == 'Draw']\n",
    "q2_draw.value_counts()"
   ]
  },
  {
   "cell_type": "markdown",
   "metadata": {},
   "source": [
    "As we can see the most frequently used opening move where Black won and where the game ended in a draw, was the\n",
    "<i>Van't Kruijs Opening</i>. For games where White won, the most frequently used opening move was the \n",
    "<i>Scandinavian Defense: Mieses-Kotroc Variation</i>"
   ]
  },
  {
   "cell_type": "markdown",
   "metadata": {},
   "source": [
    "<center> Question 3 </center>\n",
    "We want to find the percentage of games that were won by the player with the highest rating. Recall the conditon to be consider a high rating player is to achieve a rating of 1250 or greater."
   ]
  },
  {
   "cell_type": "code",
   "execution_count": 33,
   "metadata": {},
   "outputs": [
    {
     "data": {
      "text/html": [
       "<div>\n",
       "<style scoped>\n",
       "    .dataframe tbody tr th:only-of-type {\n",
       "        vertical-align: middle;\n",
       "    }\n",
       "\n",
       "    .dataframe tbody tr th {\n",
       "        vertical-align: top;\n",
       "    }\n",
       "\n",
       "    .dataframe thead th {\n",
       "        text-align: right;\n",
       "    }\n",
       "</style>\n",
       "<table border=\"1\" class=\"dataframe\">\n",
       "  <thead>\n",
       "    <tr style=\"text-align: right;\">\n",
       "      <th></th>\n",
       "      <th>white_id</th>\n",
       "      <th>white_rating</th>\n",
       "    </tr>\n",
       "  </thead>\n",
       "  <tbody>\n",
       "    <tr>\n",
       "      <th>0</th>\n",
       "      <td>bourgris</td>\n",
       "      <td>1500</td>\n",
       "    </tr>\n",
       "    <tr>\n",
       "      <th>1</th>\n",
       "      <td>a-00</td>\n",
       "      <td>1322</td>\n",
       "    </tr>\n",
       "    <tr>\n",
       "      <th>2</th>\n",
       "      <td>ischia</td>\n",
       "      <td>1496</td>\n",
       "    </tr>\n",
       "    <tr>\n",
       "      <th>3</th>\n",
       "      <td>daniamurashov</td>\n",
       "      <td>1439</td>\n",
       "    </tr>\n",
       "    <tr>\n",
       "      <th>4</th>\n",
       "      <td>nik221107</td>\n",
       "      <td>1523</td>\n",
       "    </tr>\n",
       "    <tr>\n",
       "      <th>...</th>\n",
       "      <td>...</td>\n",
       "      <td>...</td>\n",
       "    </tr>\n",
       "    <tr>\n",
       "      <th>20053</th>\n",
       "      <td>belcolt</td>\n",
       "      <td>1691</td>\n",
       "    </tr>\n",
       "    <tr>\n",
       "      <th>20054</th>\n",
       "      <td>jamboger</td>\n",
       "      <td>1233</td>\n",
       "    </tr>\n",
       "    <tr>\n",
       "      <th>20055</th>\n",
       "      <td>jamboger</td>\n",
       "      <td>1219</td>\n",
       "    </tr>\n",
       "    <tr>\n",
       "      <th>20056</th>\n",
       "      <td>marcodisogno</td>\n",
       "      <td>1360</td>\n",
       "    </tr>\n",
       "    <tr>\n",
       "      <th>20057</th>\n",
       "      <td>jamboger</td>\n",
       "      <td>1235</td>\n",
       "    </tr>\n",
       "  </tbody>\n",
       "</table>\n",
       "<p>20058 rows × 2 columns</p>\n",
       "</div>"
      ],
      "text/plain": [
       "            white_id  white_rating\n",
       "0           bourgris          1500\n",
       "1               a-00          1322\n",
       "2             ischia          1496\n",
       "3      daniamurashov          1439\n",
       "4          nik221107          1523\n",
       "...              ...           ...\n",
       "20053        belcolt          1691\n",
       "20054       jamboger          1233\n",
       "20055       jamboger          1219\n",
       "20056   marcodisogno          1360\n",
       "20057       jamboger          1235\n",
       "\n",
       "[20058 rows x 2 columns]"
      ]
     },
     "execution_count": 33,
     "metadata": {},
     "output_type": "execute_result"
    }
   ],
   "source": [
    "q3 = df[['white_id','white_rating']]\n",
    "q3"
   ]
  },
  {
   "cell_type": "code",
   "execution_count": 34,
   "metadata": {},
   "outputs": [
    {
     "data": {
      "text/html": [
       "<div>\n",
       "<style scoped>\n",
       "    .dataframe tbody tr th:only-of-type {\n",
       "        vertical-align: middle;\n",
       "    }\n",
       "\n",
       "    .dataframe tbody tr th {\n",
       "        vertical-align: top;\n",
       "    }\n",
       "\n",
       "    .dataframe thead th {\n",
       "        text-align: right;\n",
       "    }\n",
       "</style>\n",
       "<table border=\"1\" class=\"dataframe\">\n",
       "  <thead>\n",
       "    <tr style=\"text-align: right;\">\n",
       "      <th></th>\n",
       "      <th>white_id</th>\n",
       "      <th>white_rating</th>\n",
       "    </tr>\n",
       "  </thead>\n",
       "  <tbody>\n",
       "    <tr>\n",
       "      <th>13009</th>\n",
       "      <td>justicebot</td>\n",
       "      <td>2700</td>\n",
       "    </tr>\n",
       "  </tbody>\n",
       "</table>\n",
       "</div>"
      ],
      "text/plain": [
       "         white_id  white_rating\n",
       "13009  justicebot          2700"
      ]
     },
     "execution_count": 34,
     "metadata": {},
     "output_type": "execute_result"
    }
   ],
   "source": [
    "q3_white = q3[q3['white_rating'] == q3['white_rating'].max()]\n",
    "q3_white"
   ]
  },
  {
   "cell_type": "code",
   "execution_count": 30,
   "metadata": {},
   "outputs": [
    {
     "data": {
      "text/html": [
       "<div>\n",
       "<style scoped>\n",
       "    .dataframe tbody tr th:only-of-type {\n",
       "        vertical-align: middle;\n",
       "    }\n",
       "\n",
       "    .dataframe tbody tr th {\n",
       "        vertical-align: top;\n",
       "    }\n",
       "\n",
       "    .dataframe thead th {\n",
       "        text-align: right;\n",
       "    }\n",
       "</style>\n",
       "<table border=\"1\" class=\"dataframe\">\n",
       "  <thead>\n",
       "    <tr style=\"text-align: right;\">\n",
       "      <th></th>\n",
       "      <th>black_id</th>\n",
       "      <th>black_rating</th>\n",
       "    </tr>\n",
       "  </thead>\n",
       "  <tbody>\n",
       "    <tr>\n",
       "      <th>0</th>\n",
       "      <td>a-00</td>\n",
       "      <td>1191</td>\n",
       "    </tr>\n",
       "    <tr>\n",
       "      <th>1</th>\n",
       "      <td>skinnerua</td>\n",
       "      <td>1261</td>\n",
       "    </tr>\n",
       "    <tr>\n",
       "      <th>2</th>\n",
       "      <td>a-00</td>\n",
       "      <td>1500</td>\n",
       "    </tr>\n",
       "    <tr>\n",
       "      <th>3</th>\n",
       "      <td>adivanov2009</td>\n",
       "      <td>1454</td>\n",
       "    </tr>\n",
       "    <tr>\n",
       "      <th>4</th>\n",
       "      <td>adivanov2009</td>\n",
       "      <td>1469</td>\n",
       "    </tr>\n",
       "    <tr>\n",
       "      <th>...</th>\n",
       "      <td>...</td>\n",
       "      <td>...</td>\n",
       "    </tr>\n",
       "    <tr>\n",
       "      <th>20053</th>\n",
       "      <td>jamboger</td>\n",
       "      <td>1220</td>\n",
       "    </tr>\n",
       "    <tr>\n",
       "      <th>20054</th>\n",
       "      <td>farrukhasomiddinov</td>\n",
       "      <td>1196</td>\n",
       "    </tr>\n",
       "    <tr>\n",
       "      <th>20055</th>\n",
       "      <td>schaaksmurf3</td>\n",
       "      <td>1286</td>\n",
       "    </tr>\n",
       "    <tr>\n",
       "      <th>20056</th>\n",
       "      <td>jamboger</td>\n",
       "      <td>1227</td>\n",
       "    </tr>\n",
       "    <tr>\n",
       "      <th>20057</th>\n",
       "      <td>ffbob</td>\n",
       "      <td>1339</td>\n",
       "    </tr>\n",
       "  </tbody>\n",
       "</table>\n",
       "<p>20058 rows × 2 columns</p>\n",
       "</div>"
      ],
      "text/plain": [
       "                 black_id  black_rating\n",
       "0                    a-00          1191\n",
       "1               skinnerua          1261\n",
       "2                    a-00          1500\n",
       "3            adivanov2009          1454\n",
       "4            adivanov2009          1469\n",
       "...                   ...           ...\n",
       "20053            jamboger          1220\n",
       "20054  farrukhasomiddinov          1196\n",
       "20055        schaaksmurf3          1286\n",
       "20056            jamboger          1227\n",
       "20057               ffbob          1339\n",
       "\n",
       "[20058 rows x 2 columns]"
      ]
     },
     "execution_count": 30,
     "metadata": {},
     "output_type": "execute_result"
    }
   ],
   "source": [
    "q3a = df[['black_id','black_rating']]\n",
    "q3a"
   ]
  },
  {
   "cell_type": "code",
   "execution_count": 35,
   "metadata": {},
   "outputs": [
    {
     "data": {
      "text/html": [
       "<div>\n",
       "<style scoped>\n",
       "    .dataframe tbody tr th:only-of-type {\n",
       "        vertical-align: middle;\n",
       "    }\n",
       "\n",
       "    .dataframe tbody tr th {\n",
       "        vertical-align: top;\n",
       "    }\n",
       "\n",
       "    .dataframe thead th {\n",
       "        text-align: right;\n",
       "    }\n",
       "</style>\n",
       "<table border=\"1\" class=\"dataframe\">\n",
       "  <thead>\n",
       "    <tr style=\"text-align: right;\">\n",
       "      <th></th>\n",
       "      <th>black_id</th>\n",
       "      <th>black_rating</th>\n",
       "    </tr>\n",
       "  </thead>\n",
       "  <tbody>\n",
       "    <tr>\n",
       "      <th>4473</th>\n",
       "      <td>justicebot</td>\n",
       "      <td>2723</td>\n",
       "    </tr>\n",
       "  </tbody>\n",
       "</table>\n",
       "</div>"
      ],
      "text/plain": [
       "        black_id  black_rating\n",
       "4473  justicebot          2723"
      ]
     },
     "execution_count": 35,
     "metadata": {},
     "output_type": "execute_result"
    }
   ],
   "source": [
    "q3_black = q3a[q3a['black_rating'] == q3a['black_rating'].max()]\n",
    "q3_black"
   ]
  },
  {
   "cell_type": "markdown",
   "metadata": {},
   "source": [
    "<p>From extracting the user with the highest ratings with both colors is the user <i>justicebot</i>. Next we determine the percentage of games won by the user </p>"
   ]
  },
  {
   "cell_type": "code",
   "execution_count": 44,
   "metadata": {},
   "outputs": [
    {
     "data": {
      "text/html": [
       "<div>\n",
       "<style scoped>\n",
       "    .dataframe tbody tr th:only-of-type {\n",
       "        vertical-align: middle;\n",
       "    }\n",
       "\n",
       "    .dataframe tbody tr th {\n",
       "        vertical-align: top;\n",
       "    }\n",
       "\n",
       "    .dataframe thead th {\n",
       "        text-align: right;\n",
       "    }\n",
       "</style>\n",
       "<table border=\"1\" class=\"dataframe\">\n",
       "  <thead>\n",
       "    <tr style=\"text-align: right;\">\n",
       "      <th></th>\n",
       "      <th>winner</th>\n",
       "      <th>white_id</th>\n",
       "      <th>black_id</th>\n",
       "    </tr>\n",
       "  </thead>\n",
       "  <tbody>\n",
       "    <tr>\n",
       "      <th>13009</th>\n",
       "      <td>White</td>\n",
       "      <td>justicebot</td>\n",
       "      <td>youredeadmeat</td>\n",
       "    </tr>\n",
       "  </tbody>\n",
       "</table>\n",
       "</div>"
      ],
      "text/plain": [
       "      winner    white_id       black_id\n",
       "13009  White  justicebot  youredeadmeat"
      ]
     },
     "execution_count": 44,
     "metadata": {},
     "output_type": "execute_result"
    }
   ],
   "source": [
    "q3_final = df[['winner', 'white_id', 'black_id']]\n",
    "\n",
    "#We want to show the times justicebot has\n",
    "q3_final[(df['white_id'] == 'justicebot') & (df['winner'] == 'White') | (df['black_id'] == 'justicebot') & (df['winner'] == 'Black')]"
   ]
  },
  {
   "cell_type": "markdown",
   "metadata": {},
   "source": [
    "<p>So the user <i>justicebot</i> has only won one game out of the games recorded. </p>"
   ]
  },
  {
   "cell_type": "code",
   "execution_count": 54,
   "metadata": {},
   "outputs": [
    {
     "name": "stdout",
     "output_type": "stream",
     "text": [
      "0.00499\n"
     ]
    }
   ],
   "source": [
    "x = round((1/20058)*100, 5)\n",
    "print( x)"
   ]
  },
  {
   "cell_type": "markdown",
   "metadata": {},
   "source": [
    "<p>The user with the highest rating has only won 0.00499% of the games recorded. </p>"
   ]
  },
  {
   "cell_type": "markdown",
   "metadata": {},
   "source": [
    "<center> Question 4 </center>\n",
    "<p>We want to find the user that won the most games and the percentage of games where they were a high rating player</p>\n",
    "<p>The website, Maven, did not specifiy the condition to be considered a high rating player, so for this case\n",
    "We assume that a high rating player has a rating of 1250 or more</p>"
   ]
  },
  {
   "cell_type": "code",
   "execution_count": 8,
   "metadata": {},
   "outputs": [
    {
     "data": {
      "text/html": [
       "<div>\n",
       "<style scoped>\n",
       "    .dataframe tbody tr th:only-of-type {\n",
       "        vertical-align: middle;\n",
       "    }\n",
       "\n",
       "    .dataframe tbody tr th {\n",
       "        vertical-align: top;\n",
       "    }\n",
       "\n",
       "    .dataframe thead th {\n",
       "        text-align: right;\n",
       "    }\n",
       "</style>\n",
       "<table border=\"1\" class=\"dataframe\">\n",
       "  <thead>\n",
       "    <tr style=\"text-align: right;\">\n",
       "      <th></th>\n",
       "      <th>winner</th>\n",
       "      <th>white_id</th>\n",
       "      <th>white_rating</th>\n",
       "      <th>black_id</th>\n",
       "      <th>black_rating</th>\n",
       "    </tr>\n",
       "  </thead>\n",
       "  <tbody>\n",
       "    <tr>\n",
       "      <th>0</th>\n",
       "      <td>White</td>\n",
       "      <td>bourgris</td>\n",
       "      <td>1500</td>\n",
       "      <td>a-00</td>\n",
       "      <td>1191</td>\n",
       "    </tr>\n",
       "    <tr>\n",
       "      <th>1</th>\n",
       "      <td>Black</td>\n",
       "      <td>a-00</td>\n",
       "      <td>1322</td>\n",
       "      <td>skinnerua</td>\n",
       "      <td>1261</td>\n",
       "    </tr>\n",
       "    <tr>\n",
       "      <th>2</th>\n",
       "      <td>White</td>\n",
       "      <td>ischia</td>\n",
       "      <td>1496</td>\n",
       "      <td>a-00</td>\n",
       "      <td>1500</td>\n",
       "    </tr>\n",
       "    <tr>\n",
       "      <th>3</th>\n",
       "      <td>White</td>\n",
       "      <td>daniamurashov</td>\n",
       "      <td>1439</td>\n",
       "      <td>adivanov2009</td>\n",
       "      <td>1454</td>\n",
       "    </tr>\n",
       "    <tr>\n",
       "      <th>4</th>\n",
       "      <td>White</td>\n",
       "      <td>nik221107</td>\n",
       "      <td>1523</td>\n",
       "      <td>adivanov2009</td>\n",
       "      <td>1469</td>\n",
       "    </tr>\n",
       "    <tr>\n",
       "      <th>...</th>\n",
       "      <td>...</td>\n",
       "      <td>...</td>\n",
       "      <td>...</td>\n",
       "      <td>...</td>\n",
       "      <td>...</td>\n",
       "    </tr>\n",
       "    <tr>\n",
       "      <th>20053</th>\n",
       "      <td>White</td>\n",
       "      <td>belcolt</td>\n",
       "      <td>1691</td>\n",
       "      <td>jamboger</td>\n",
       "      <td>1220</td>\n",
       "    </tr>\n",
       "    <tr>\n",
       "      <th>20054</th>\n",
       "      <td>Black</td>\n",
       "      <td>jamboger</td>\n",
       "      <td>1233</td>\n",
       "      <td>farrukhasomiddinov</td>\n",
       "      <td>1196</td>\n",
       "    </tr>\n",
       "    <tr>\n",
       "      <th>20055</th>\n",
       "      <td>White</td>\n",
       "      <td>jamboger</td>\n",
       "      <td>1219</td>\n",
       "      <td>schaaksmurf3</td>\n",
       "      <td>1286</td>\n",
       "    </tr>\n",
       "    <tr>\n",
       "      <th>20056</th>\n",
       "      <td>White</td>\n",
       "      <td>marcodisogno</td>\n",
       "      <td>1360</td>\n",
       "      <td>jamboger</td>\n",
       "      <td>1227</td>\n",
       "    </tr>\n",
       "    <tr>\n",
       "      <th>20057</th>\n",
       "      <td>Black</td>\n",
       "      <td>jamboger</td>\n",
       "      <td>1235</td>\n",
       "      <td>ffbob</td>\n",
       "      <td>1339</td>\n",
       "    </tr>\n",
       "  </tbody>\n",
       "</table>\n",
       "<p>20058 rows × 5 columns</p>\n",
       "</div>"
      ],
      "text/plain": [
       "      winner       white_id  white_rating            black_id  black_rating\n",
       "0      White       bourgris          1500                a-00          1191\n",
       "1      Black           a-00          1322           skinnerua          1261\n",
       "2      White         ischia          1496                a-00          1500\n",
       "3      White  daniamurashov          1439        adivanov2009          1454\n",
       "4      White      nik221107          1523        adivanov2009          1469\n",
       "...      ...            ...           ...                 ...           ...\n",
       "20053  White        belcolt          1691            jamboger          1220\n",
       "20054  Black       jamboger          1233  farrukhasomiddinov          1196\n",
       "20055  White       jamboger          1219        schaaksmurf3          1286\n",
       "20056  White   marcodisogno          1360            jamboger          1227\n",
       "20057  Black       jamboger          1235               ffbob          1339\n",
       "\n",
       "[20058 rows x 5 columns]"
      ]
     },
     "execution_count": 8,
     "metadata": {},
     "output_type": "execute_result"
    }
   ],
   "source": [
    "# Set up dataframe to find the user that won the most games\n",
    "q4 = df.iloc[:, [4,6,7,8,9]]\n",
    "q4"
   ]
  },
  {
   "cell_type": "code",
   "execution_count": 9,
   "metadata": {},
   "outputs": [
    {
     "data": {
      "text/plain": [
       "white_id\n",
       "taranga               34\n",
       "ssf7                  29\n",
       "hassan1365416         28\n",
       "a_p_t_e_m_u_u         25\n",
       "vladimir-kramnik-1    22\n",
       "                      ..\n",
       "angelkiss              1\n",
       "morenobh               1\n",
       "szupfer                1\n",
       "andradedavi            1\n",
       "marcodisogno           1\n",
       "Name: count, Length: 5437, dtype: int64"
      ]
     },
     "execution_count": 9,
     "metadata": {},
     "output_type": "execute_result"
    }
   ],
   "source": [
    "#First we determine who won the most games as White\n",
    "y = q4[q4['winner'] == 'White']\n",
    "y['white_id'].value_counts()"
   ]
  },
  {
   "cell_type": "code",
   "execution_count": 10,
   "metadata": {},
   "outputs": [
    {
     "data": {
      "text/plain": [
       "black_id\n",
       "taranga               38\n",
       "ducksandcats          29\n",
       "vladimir-kramnik-1    28\n",
       "chesscarl             27\n",
       "docboss               25\n",
       "                      ..\n",
       "serjjant               1\n",
       "thesatantango          1\n",
       "jrodneystar            1\n",
       "dimehola               1\n",
       "ffbob                  1\n",
       "Name: count, Length: 4943, dtype: int64"
      ]
     },
     "execution_count": 10,
     "metadata": {},
     "output_type": "execute_result"
    }
   ],
   "source": [
    "#Now we need to check who won the most games as Black\n",
    "z = q4[q4['winner'] == 'Black']\n",
    "z['black_id'].value_counts()"
   ]
  },
  {
   "cell_type": "markdown",
   "metadata": {},
   "source": [
    "<p>So as we see, the user by the name, <i>taranga</i>, won the most games overall</p>"
   ]
  },
  {
   "cell_type": "code",
   "execution_count": 11,
   "metadata": {},
   "outputs": [
    {
     "name": "stdout",
     "output_type": "stream",
     "text": [
      "<class 'pandas.core.frame.DataFrame'>\n",
      "Index: 32 entries, 202 to 19089\n",
      "Data columns (total 17 columns):\n",
      " #   Column             Non-Null Count  Dtype \n",
      "---  ------             --------------  ----- \n",
      " 0   game_id            32 non-null     int64 \n",
      " 1   rated              32 non-null     bool  \n",
      " 2   turns              32 non-null     int64 \n",
      " 3   victory_status     32 non-null     object\n",
      " 4   winner             32 non-null     object\n",
      " 5   time_increment     32 non-null     object\n",
      " 6   white_id           32 non-null     object\n",
      " 7   white_rating       32 non-null     int64 \n",
      " 8   black_id           32 non-null     object\n",
      " 9   black_rating       32 non-null     int64 \n",
      " 10  moves              32 non-null     object\n",
      " 11  opening_code       32 non-null     object\n",
      " 12  opening_moves      32 non-null     int64 \n",
      " 13  opening_fullname   32 non-null     object\n",
      " 14  opening_shortname  32 non-null     object\n",
      " 15  opening_response   0 non-null      object\n",
      " 16  opening_variation  25 non-null     object\n",
      "dtypes: bool(1), int64(5), object(11)\n",
      "memory usage: 4.3+ KB\n"
     ]
    }
   ],
   "source": [
    "#Now that we see the user that won the most games, we can now deterine the perentage of those games where they are the highest rated player\n",
    "\n",
    "y_1 = df[(df['winner'] == 'White') & (df['white_id'] == 'taranga') & (df['white_rating'] >= 1250)]\n",
    "\n",
    "#Apply the info method to determine the number of games where taranga won as white and was high rated player\n",
    "y_1.info()\n",
    "#We can see that there were 32 games where the conditions were met"
   ]
  },
  {
   "cell_type": "code",
   "execution_count": 12,
   "metadata": {},
   "outputs": [
    {
     "name": "stdout",
     "output_type": "stream",
     "text": [
      "<class 'pandas.core.frame.DataFrame'>\n",
      "Index: 37 entries, 193 to 19090\n",
      "Data columns (total 17 columns):\n",
      " #   Column             Non-Null Count  Dtype \n",
      "---  ------             --------------  ----- \n",
      " 0   game_id            37 non-null     int64 \n",
      " 1   rated              37 non-null     bool  \n",
      " 2   turns              37 non-null     int64 \n",
      " 3   victory_status     37 non-null     object\n",
      " 4   winner             37 non-null     object\n",
      " 5   time_increment     37 non-null     object\n",
      " 6   white_id           37 non-null     object\n",
      " 7   white_rating       37 non-null     int64 \n",
      " 8   black_id           37 non-null     object\n",
      " 9   black_rating       37 non-null     int64 \n",
      " 10  moves              37 non-null     object\n",
      " 11  opening_code       37 non-null     object\n",
      " 12  opening_moves      37 non-null     int64 \n",
      " 13  opening_fullname   37 non-null     object\n",
      " 14  opening_shortname  37 non-null     object\n",
      " 15  opening_response   5 non-null      object\n",
      " 16  opening_variation  21 non-null     object\n",
      "dtypes: bool(1), int64(5), object(11)\n",
      "memory usage: 5.0+ KB\n"
     ]
    }
   ],
   "source": [
    "#We apply the same idea for when taranga won on Black and was a high rated player\n",
    "y_2 = df[(df['winner'] == 'Black') & (df['black_id'] == 'taranga') & (df['black_rating'] >= 1250)]\n",
    "\n",
    "y_2.info()\n",
    "#We can see that there were 37 games where the conditions were met"
   ]
  },
  {
   "cell_type": "code",
   "execution_count": 56,
   "metadata": {},
   "outputs": [
    {
     "name": "stdout",
     "output_type": "stream",
     "text": [
      "0.344\n"
     ]
    }
   ],
   "source": [
    "# Store the percentage of games won in the variable h\n",
    "h = round((37+32)/20058*100,5)\n",
    "print(h)"
   ]
  },
  {
   "cell_type": "markdown",
   "metadata": {},
   "source": [
    "<p>The user, <i>taranga</i>, who won the most games, won approximately 0.344% of the games recorded.</p>"
   ]
  }
 ],
 "metadata": {
  "kernelspec": {
   "display_name": "Python 3",
   "language": "python",
   "name": "python3"
  },
  "language_info": {
   "codemirror_mode": {
    "name": "ipython",
    "version": 3
   },
   "file_extension": ".py",
   "mimetype": "text/x-python",
   "name": "python",
   "nbconvert_exporter": "python",
   "pygments_lexer": "ipython3",
   "version": "3.11.3"
  }
 },
 "nbformat": 4,
 "nbformat_minor": 2
}
